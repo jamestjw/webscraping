{
 "cells": [
  {
   "cell_type": "markdown",
   "metadata": {},
   "source": [
    "# Bitcoin OHCLV"
   ]
  },
  {
   "cell_type": "markdown",
   "metadata": {},
   "source": [
    "We want to save the OHCLV data of Bitcoin up until today."
   ]
  },
  {
   "cell_type": "markdown",
   "metadata": {},
   "source": [
    "### Import the relevant modules"
   ]
  },
  {
   "cell_type": "code",
   "execution_count": 1,
   "metadata": {},
   "outputs": [],
   "source": [
    "from selenium import webdriver\n",
    "from selenium.webdriver.common.by import By\n",
    "from selenium.webdriver.support.ui import WebDriverWait"
   ]
  },
  {
   "cell_type": "markdown",
   "metadata": {},
   "source": [
    "### Set up a web browser (or driver in this case)."
   ]
  },
  {
   "cell_type": "code",
   "execution_count": 17,
   "metadata": {},
   "outputs": [],
   "source": [
    "driver = webdriver.Chrome()\n",
    "driver.get(\"https://coinmarketcap.com/currencies/bitcoin/historical-data/?start=20100311&end=20190410\")"
   ]
  },
  {
   "cell_type": "markdown",
   "metadata": {},
   "source": [
    "### Find the relevant elements."
   ]
  },
  {
   "cell_type": "code",
   "execution_count": 3,
   "metadata": {},
   "outputs": [],
   "source": [
    "res = driver.find_elements_by_xpath('//div/table/tbody/tr')"
   ]
  },
  {
   "cell_type": "code",
   "execution_count": 4,
   "metadata": {},
   "outputs": [],
   "source": [
    "data = []\n",
    "for _ in range(7):\n",
    "    data.append([])"
   ]
  },
  {
   "cell_type": "code",
   "execution_count": 5,
   "metadata": {},
   "outputs": [],
   "source": [
    "from fastprogress import master_bar, progress_bar\n",
    "from time import sleep"
   ]
  },
  {
   "cell_type": "markdown",
   "metadata": {},
   "source": [
    "### Begin collecting relevant data."
   ]
  },
  {
   "cell_type": "code",
   "execution_count": 7,
   "metadata": {},
   "outputs": [],
   "source": [
    "mb = master_bar(res)"
   ]
  },
  {
   "cell_type": "code",
   "execution_count": 8,
   "metadata": {},
   "outputs": [
    {
     "data": {
      "text/html": [],
      "text/plain": [
       "<IPython.core.display.HTML object>"
      ]
     },
     "metadata": {},
     "output_type": "display_data"
    }
   ],
   "source": [
    "for i in mb:\n",
    "    idx=0\n",
    "    for d in progress_bar(i.find_elements_by_xpath(\".//td\"), parent=mb):\n",
    "        data[idx].append(d.text)\n",
    "        idx +=1"
   ]
  },
  {
   "cell_type": "code",
   "execution_count": 9,
   "metadata": {},
   "outputs": [],
   "source": [
    "driver.close()"
   ]
  },
  {
   "cell_type": "markdown",
   "metadata": {},
   "source": [
    "### Arrange data in a Dataframe"
   ]
  },
  {
   "cell_type": "code",
   "execution_count": 13,
   "metadata": {},
   "outputs": [],
   "source": [
    "import pandas as pd"
   ]
  },
  {
   "cell_type": "code",
   "execution_count": 18,
   "metadata": {},
   "outputs": [],
   "source": [
    "cols = ['date','open','high','low','close','volume','mktcap']"
   ]
  },
  {
   "cell_type": "code",
   "execution_count": 35,
   "metadata": {},
   "outputs": [
    {
     "data": {
      "text/plain": [
       "[2174, 2174, 2174, 2174, 2174, 2174, 2174]"
      ]
     },
     "execution_count": 35,
     "metadata": {},
     "output_type": "execute_result"
    }
   ],
   "source": [
    "[len(d) for d in data]"
   ]
  },
  {
   "cell_type": "code",
   "execution_count": 36,
   "metadata": {},
   "outputs": [],
   "source": [
    "data_dict = {c:data[i] for i,c in enumerate(cols)}"
   ]
  },
  {
   "cell_type": "code",
   "execution_count": 37,
   "metadata": {},
   "outputs": [],
   "source": [
    "df = pd.DataFrame(data_dict)"
   ]
  },
  {
   "cell_type": "code",
   "execution_count": 38,
   "metadata": {},
   "outputs": [
    {
     "data": {
      "text/html": [
       "<div>\n",
       "<style scoped>\n",
       "    .dataframe tbody tr th:only-of-type {\n",
       "        vertical-align: middle;\n",
       "    }\n",
       "\n",
       "    .dataframe tbody tr th {\n",
       "        vertical-align: top;\n",
       "    }\n",
       "\n",
       "    .dataframe thead th {\n",
       "        text-align: right;\n",
       "    }\n",
       "</style>\n",
       "<table border=\"1\" class=\"dataframe\">\n",
       "  <thead>\n",
       "    <tr style=\"text-align: right;\">\n",
       "      <th></th>\n",
       "      <th>date</th>\n",
       "      <th>open</th>\n",
       "      <th>high</th>\n",
       "      <th>low</th>\n",
       "      <th>close</th>\n",
       "      <th>volume</th>\n",
       "      <th>mktcap</th>\n",
       "    </tr>\n",
       "  </thead>\n",
       "  <tbody>\n",
       "    <tr>\n",
       "      <th>0</th>\n",
       "      <td>Apr 10, 2019</td>\n",
       "      <td>5,204.11</td>\n",
       "      <td>5,421.65</td>\n",
       "      <td>5,193.38</td>\n",
       "      <td>5,324.55</td>\n",
       "      <td>15,504,590,933</td>\n",
       "      <td>93,918,439,274</td>\n",
       "    </tr>\n",
       "    <tr>\n",
       "      <th>1</th>\n",
       "      <td>Apr 09, 2019</td>\n",
       "      <td>5,289.92</td>\n",
       "      <td>5,289.92</td>\n",
       "      <td>5,167.42</td>\n",
       "      <td>5,204.96</td>\n",
       "      <td>14,722,104,361</td>\n",
       "      <td>91,799,330,425</td>\n",
       "    </tr>\n",
       "    <tr>\n",
       "      <th>2</th>\n",
       "      <td>Apr 08, 2019</td>\n",
       "      <td>5,199.84</td>\n",
       "      <td>5,318.84</td>\n",
       "      <td>5,148.21</td>\n",
       "      <td>5,289.77</td>\n",
       "      <td>17,154,113,634</td>\n",
       "      <td>93,286,365,973</td>\n",
       "    </tr>\n",
       "    <tr>\n",
       "      <th>3</th>\n",
       "      <td>Apr 07, 2019</td>\n",
       "      <td>5,062.79</td>\n",
       "      <td>5,235.19</td>\n",
       "      <td>5,050.41</td>\n",
       "      <td>5,198.90</td>\n",
       "      <td>16,655,416,140</td>\n",
       "      <td>91,674,230,186</td>\n",
       "    </tr>\n",
       "    <tr>\n",
       "      <th>4</th>\n",
       "      <td>Apr 06, 2019</td>\n",
       "      <td>5,036.79</td>\n",
       "      <td>5,205.82</td>\n",
       "      <td>4,992.22</td>\n",
       "      <td>5,059.82</td>\n",
       "      <td>16,929,795,194</td>\n",
       "      <td>89,212,733,450</td>\n",
       "    </tr>\n",
       "  </tbody>\n",
       "</table>\n",
       "</div>"
      ],
      "text/plain": [
       "           date      open      high       low     close          volume  \\\n",
       "0  Apr 10, 2019  5,204.11  5,421.65  5,193.38  5,324.55  15,504,590,933   \n",
       "1  Apr 09, 2019  5,289.92  5,289.92  5,167.42  5,204.96  14,722,104,361   \n",
       "2  Apr 08, 2019  5,199.84  5,318.84  5,148.21  5,289.77  17,154,113,634   \n",
       "3  Apr 07, 2019  5,062.79  5,235.19  5,050.41  5,198.90  16,655,416,140   \n",
       "4  Apr 06, 2019  5,036.79  5,205.82  4,992.22  5,059.82  16,929,795,194   \n",
       "\n",
       "           mktcap  \n",
       "0  93,918,439,274  \n",
       "1  91,799,330,425  \n",
       "2  93,286,365,973  \n",
       "3  91,674,230,186  \n",
       "4  89,212,733,450  "
      ]
     },
     "execution_count": 38,
     "metadata": {},
     "output_type": "execute_result"
    }
   ],
   "source": [
    "df.head()"
   ]
  },
  {
   "cell_type": "markdown",
   "metadata": {},
   "source": [
    "### Save data"
   ]
  },
  {
   "cell_type": "code",
   "execution_count": 39,
   "metadata": {},
   "outputs": [],
   "source": [
    "df.to_csv('bitcoin_4_april_19_ohclv.csv')"
   ]
  }
 ],
 "metadata": {
  "kernelspec": {
   "display_name": "Python 3",
   "language": "python",
   "name": "python3"
  },
  "language_info": {
   "codemirror_mode": {
    "name": "ipython",
    "version": 3
   },
   "file_extension": ".py",
   "mimetype": "text/x-python",
   "name": "python",
   "nbconvert_exporter": "python",
   "pygments_lexer": "ipython3",
   "version": "3.6.7"
  }
 },
 "nbformat": 4,
 "nbformat_minor": 2
}
